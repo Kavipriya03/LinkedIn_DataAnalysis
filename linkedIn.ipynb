{
 "cells": [
  {
   "cell_type": "code",
   "execution_count": 11,
   "id": "79711ce1-1b8e-45c7-ad97-ed3d6ccea9fd",
   "metadata": {},
   "outputs": [
    {
     "name": "stdout",
     "output_type": "stream",
     "text": [
      "Requirement already satisfied: selenium in /opt/anaconda3/lib/python3.11/site-packages (4.23.1)\n",
      "Requirement already satisfied: urllib3<3,>=1.26 in /opt/anaconda3/lib/python3.11/site-packages (from urllib3[socks]<3,>=1.26->selenium) (2.0.7)\n",
      "Requirement already satisfied: trio~=0.17 in /opt/anaconda3/lib/python3.11/site-packages (from selenium) (0.26.0)\n",
      "Requirement already satisfied: trio-websocket~=0.9 in /opt/anaconda3/lib/python3.11/site-packages (from selenium) (0.11.1)\n",
      "Requirement already satisfied: certifi>=2021.10.8 in /opt/anaconda3/lib/python3.11/site-packages (from selenium) (2024.2.2)\n",
      "Requirement already satisfied: typing_extensions~=4.9 in /opt/anaconda3/lib/python3.11/site-packages (from selenium) (4.9.0)\n",
      "Requirement already satisfied: websocket-client~=1.8 in /opt/anaconda3/lib/python3.11/site-packages (from selenium) (1.8.0)\n",
      "Requirement already satisfied: attrs>=23.2.0 in /opt/anaconda3/lib/python3.11/site-packages (from trio~=0.17->selenium) (23.2.0)\n",
      "Requirement already satisfied: sortedcontainers in /opt/anaconda3/lib/python3.11/site-packages (from trio~=0.17->selenium) (2.4.0)\n",
      "Requirement already satisfied: idna in /opt/anaconda3/lib/python3.11/site-packages (from trio~=0.17->selenium) (3.4)\n",
      "Requirement already satisfied: outcome in /opt/anaconda3/lib/python3.11/site-packages (from trio~=0.17->selenium) (1.3.0.post0)\n",
      "Requirement already satisfied: sniffio>=1.3.0 in /opt/anaconda3/lib/python3.11/site-packages (from trio~=0.17->selenium) (1.3.0)\n",
      "Requirement already satisfied: wsproto>=0.14 in /opt/anaconda3/lib/python3.11/site-packages (from trio-websocket~=0.9->selenium) (1.2.0)\n",
      "Requirement already satisfied: pysocks!=1.5.7,<2.0,>=1.5.6 in /opt/anaconda3/lib/python3.11/site-packages (from urllib3[socks]<3,>=1.26->selenium) (1.7.1)\n",
      "Requirement already satisfied: h11<1,>=0.9.0 in /opt/anaconda3/lib/python3.11/site-packages (from wsproto>=0.14->trio-websocket~=0.9->selenium) (0.14.0)\n",
      "Note: you may need to restart the kernel to use updated packages.\n"
     ]
    }
   ],
   "source": [
    "pip install --upgrade selenium"
   ]
  },
  {
   "cell_type": "code",
   "execution_count": 12,
   "id": "eca951a9-0ec6-4048-a80a-207f840f8516",
   "metadata": {},
   "outputs": [],
   "source": [
    "from selenium import webdriver\n",
    "from selenium.webdriver.chrome.service import Service\n",
    "service_obj=Service(\"/Users/kavii/Documents/dev/web_scraping/chromedriver-mac-x64/chromedriver\")\n",
    "driver=webdriver.Chrome(service=service_obj)\n",
    "from selenium.webdriver.common.by import By\n",
    "import time\n",
    "from webdriver_manager.chrome import ChromeDriverManager\n",
    "options = webdriver.ChromeOptions()\n",
    "options.headless = False  # Disable headless mode\n",
    "\n",
    "driver = webdriver.Chrome(service=Service(ChromeDriverManager().install()), options=options)"
   ]
  },
  {
   "cell_type": "code",
   "execution_count": 13,
   "id": "bb9dde1b-6a1a-4abe-ba28-4591adf4be59",
   "metadata": {},
   "outputs": [],
   "source": [
    "driver.get('https://www.linkedin.com/login')"
   ]
  },
  {
   "cell_type": "code",
   "execution_count": 14,
   "id": "d2a63e6e-41ca-4795-b1c5-97b477596658",
   "metadata": {},
   "outputs": [],
   "source": [
    "mail='useriskavi@gmail.com'\n",
    "password='Vbkj2003'"
   ]
  },
  {
   "cell_type": "code",
   "execution_count": 15,
   "id": "f6790d3e-51dc-4f60-add9-9772faf398ab",
   "metadata": {},
   "outputs": [],
   "source": [
    "driver.find_element(By.XPATH,\"//input[@type='text']\").send_keys(mail)\n",
    "driver.find_element(By.XPATH,\"//input[@id='password']\").send_keys(password)\n",
    "driver.find_element(By.XPATH,\"//button[@class='btn__primary--large from__button--floating']\").click()\n"
   ]
  },
  {
   "cell_type": "code",
   "execution_count": 16,
   "id": "ca966673-c90b-42c0-9843-f259a4f66f1d",
   "metadata": {},
   "outputs": [],
   "source": [
    "driver.get(\"https://www.linkedin.com/jobs/search/?currentJobId=3978465903&distance=25.0&f_E=2&geoId=102713980&keywords=data%20analyst&origin=JOB_SEARCH_PAGE_JOB_FILTER\")"
   ]
  },
  {
   "cell_type": "code",
   "execution_count": 17,
   "id": "a8f2c280-9af3-4a15-af3f-8532be8d988a",
   "metadata": {},
   "outputs": [],
   "source": [
    "import pandas as pd\n",
    "df=pd.DataFrame()\n",
    "ljob_title=[]\n",
    "lcompany_title=[]\n",
    "ljob_description=[]"
   ]
  },
  {
   "cell_type": "code",
   "execution_count": null,
   "id": "dc9cb34d-9172-4144-a776-b3a2ac1a8ce5",
   "metadata": {},
   "outputs": [],
   "source": [
    "   for j in range (1,23):\n",
    "       page_numbers=driver.find_element(By.XPATH, f\"//button[@aria-label='Page {j}']\")\n",
    "       page_numbers.click()\n",
    "       time.sleep(2)\n",
    "       \n",
    "       jobs_block=driver.find_elements(By.XPATH,\"//ul[@class='scaffold-layout__list-container']/li\") \n",
    "        #exexutes js to scroll the job divs using view\n",
    "       for job in jobs_block:\n",
    "            driver.execute_script(\"arguments[0].scrollIntoView();\",job)\n",
    "            time.sleep(1)\n",
    "       job_links=driver.find_elements(By.XPATH,\"//ul[@class='scaffold-layout__list-container']/li\")\n",
    "       for link in job_links:\n",
    "            link.click()\n",
    "            time.sleep(2)\n",
    "            job_title=driver.find_element(By.XPATH,'//h1[@class=\"t-24 t-bold inline\"]').text\n",
    "            company_title=driver.find_element(By.XPATH,'//div[@class=\"job-details-jobs-unified-top-card__company-name\"]').text\n",
    "            job_description=driver.find_element(By.XPATH,'//div[@class=\"mt4\"]').text\n",
    "        \n",
    "            ljob_title.append(job_title)\n",
    "            lcompany_title.append(company_title)\n",
    "            ljob_description.append(job_description)\n"
   ]
  },
  {
   "cell_type": "code",
   "execution_count": null,
   "id": "6e8706a4-0968-4d9e-b6d3-d472efd97cff",
   "metadata": {},
   "outputs": [],
   "source": [
    "data={'job_title':ljob_title,'company_title':lcompany_title,'job_description':ljob_description,}\n",
    "df=pd.DataFrame(data)\n",
    "print(df)"
   ]
  },
  {
   "cell_type": "code",
   "execution_count": null,
   "id": "595aa42b-f643-4eba-8922-f52b16ab9eca",
   "metadata": {},
   "outputs": [],
   "source": [
    "df.head()"
   ]
  },
  {
   "cell_type": "code",
   "execution_count": null,
   "id": "69b0331b-a452-4ada-8d56-939d85a77f81",
   "metadata": {},
   "outputs": [],
   "source": [
    "df.to_csv(\"/Users/kavii/Desktop/exported_linkedin.csv\", index=False)"
   ]
  },
  {
   "cell_type": "code",
   "execution_count": null,
   "id": "bdd782f5-e08e-41de-88a5-092cbcc30e92",
   "metadata": {},
   "outputs": [],
   "source": []
  }
 ],
 "metadata": {
  "kernelspec": {
   "display_name": "Python 3 (ipykernel)",
   "language": "python",
   "name": "python3"
  },
  "language_info": {
   "codemirror_mode": {
    "name": "ipython",
    "version": 3
   },
   "file_extension": ".py",
   "mimetype": "text/x-python",
   "name": "python",
   "nbconvert_exporter": "python",
   "pygments_lexer": "ipython3",
   "version": "3.11.7"
  }
 },
 "nbformat": 4,
 "nbformat_minor": 5
}
