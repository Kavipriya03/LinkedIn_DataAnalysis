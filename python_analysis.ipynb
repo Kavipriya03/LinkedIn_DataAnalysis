{
 "cells": [
  {
   "cell_type": "code",
   "execution_count": 140,
   "id": "2bdd55c7-9f90-489f-8d89-39359670833f",
   "metadata": {},
   "outputs": [],
   "source": [
    "import pandas as pd\n",
    "import numpy as np\n",
    "import matplotlib as plot"
   ]
  },
  {
   "cell_type": "code",
   "execution_count": 141,
   "id": "38175149-2f55-4f72-adcc-b4ee7c600605",
   "metadata": {},
   "outputs": [
    {
     "name": "stdout",
     "output_type": "stream",
     "text": [
      "                                job_title  company_title  \\\n",
      "0                            Data Analyst     Mr. Cooper   \n",
      "1                            Data Analyst         Myntra   \n",
      "2      Remote Python Data Science Analyst         Turing   \n",
      "3                Analyst - Data Scientist    AstraZeneca   \n",
      "4                            Data Analyst  Tech Mahindra   \n",
      "..                                    ...            ...   \n",
      "545           Remote Data Science Analyst         Turing   \n",
      "546           Remote Data Science Analyst         Turing   \n",
      "547  Remote Data Science Analyst (Python)         Turing   \n",
      "548           Remote Data Science Analyst         Turing   \n",
      "549    Remote Python Data Science Analyst         Turing   \n",
      "\n",
      "                                       job_description  \n",
      "0    At Mr. Cooper Group, You Make the Dream Possib...  \n",
      "1    Responsibilities\\n\\nData Analyst : \\n\\nBuildin...  \n",
      "2    A prominent US client is seeking a Data Scient...  \n",
      "3    Job Title - Analyst - Data Scientist\\n\\nCareer...  \n",
      "4    Job Summary\\n\\nTO contribute TO a project ON a...  \n",
      "..                                                 ...  \n",
      "545  A top US client is looking to hire Data Scient...  \n",
      "546  A prominent US client is seeking Data Scientis...  \n",
      "547  A renowned US-based client is seeking a commit...  \n",
      "548  A leading client in the United States is in se...  \n",
      "549  Our esteemed US-based client is on the lookout...  \n",
      "\n",
      "[550 rows x 3 columns]\n"
     ]
    }
   ],
   "source": [
    "#importing csv file\n",
    "data = pd.read_csv(\"/Users/kavii/Documents/dev/web_scraping/exported_linkedin.csv\")\n",
    "df = pd.DataFrame(data)\n",
    "print(df)\n"
   ]
  },
  {
   "cell_type": "code",
   "execution_count": 142,
   "id": "cd16eff0-e153-4d3d-8bc0-eb09048729ed",
   "metadata": {},
   "outputs": [
    {
     "name": "stdout",
     "output_type": "stream",
     "text": [
      "                            job_title  company_title  \\\n",
      "0                        Data Analyst     Mr. Cooper   \n",
      "1                        Data Analyst         Myntra   \n",
      "2  Remote Python Data Science Analyst         Turing   \n",
      "3            Analyst - Data Scientist    AstraZeneca   \n",
      "4                        Data Analyst  Tech Mahindra   \n",
      "\n",
      "                                     job_description  \n",
      "0  At Mr. Cooper Group, You Make the Dream Possib...  \n",
      "1  Responsibilities\\n\\nData Analyst : \\n\\nBuildin...  \n",
      "2  A prominent US client is seeking a Data Scient...  \n",
      "3  Job Title - Analyst - Data Scientist\\n\\nCareer...  \n",
      "4  Job Summary\\n\\nTO contribute TO a project ON a...  \n"
     ]
    }
   ],
   "source": [
    "print (df.head(5))"
   ]
  },
  {
   "cell_type": "code",
   "execution_count": 143,
   "id": "5dd45ce2-cfea-439a-b7b5-57b6116db407",
   "metadata": {},
   "outputs": [
    {
     "name": "stdout",
     "output_type": "stream",
     "text": [
      "<class 'pandas.core.frame.DataFrame'>\n",
      "RangeIndex: 550 entries, 0 to 549\n",
      "Data columns (total 3 columns):\n",
      " #   Column           Non-Null Count  Dtype \n",
      "---  ------           --------------  ----- \n",
      " 0   job_title        550 non-null    object\n",
      " 1   company_title    550 non-null    object\n",
      " 2   job_description  550 non-null    object\n",
      "dtypes: object(3)\n",
      "memory usage: 13.0+ KB\n",
      "None\n"
     ]
    }
   ],
   "source": [
    "print(df.info())"
   ]
  },
  {
   "cell_type": "code",
   "execution_count": 144,
   "id": "a6c58fb8-94ee-4854-9b14-7ad414d3d4ee",
   "metadata": {},
   "outputs": [
    {
     "name": "stdout",
     "output_type": "stream",
     "text": [
      "550\n"
     ]
    }
   ],
   "source": [
    "#printing total number of companies\n",
    "\n",
    "total_companies = df.company_title.count()\n",
    "print (total_companies)"
   ]
  },
  {
   "cell_type": "code",
   "execution_count": 145,
   "id": "64f10cef-8beb-4dcc-b9ac-8cf48328c820",
   "metadata": {},
   "outputs": [],
   "source": [
    "#printing unique companies\n",
    "#unique_companies = df.company_title.unique()\n",
    "#print(unique_companies)"
   ]
  },
  {
   "cell_type": "code",
   "execution_count": 146,
   "id": "014b8dad",
   "metadata": {},
   "outputs": [
    {
     "name": "stdout",
     "output_type": "stream",
     "text": [
      "203\n"
     ]
    }
   ],
   "source": [
    "unique_companies = df['company_title'].nunique()\n",
    "print(unique_companies)"
   ]
  },
  {
   "cell_type": "code",
   "execution_count": 147,
   "id": "d796cdf8-f28a-4479-978e-de51f4d010e5",
   "metadata": {},
   "outputs": [
    {
     "data": {
      "text/plain": [
       "RangeIndex(start=0, stop=550, step=1)"
      ]
     },
     "execution_count": 147,
     "metadata": {},
     "output_type": "execute_result"
    }
   ],
   "source": [
    "df.index"
   ]
  },
  {
   "cell_type": "code",
   "execution_count": 148,
   "id": "4af7999f-9c64-4588-8afa-ee2017855bd7",
   "metadata": {},
   "outputs": [
    {
     "data": {
      "text/plain": [
       "Index(['job_title', 'company_title', 'job_description'], dtype='object')"
      ]
     },
     "execution_count": 148,
     "metadata": {},
     "output_type": "execute_result"
    }
   ],
   "source": [
    "df.columns"
   ]
  },
  {
   "cell_type": "code",
   "execution_count": 149,
   "id": "c1879483-32ba-4cb3-b252-dadeec6ea4e3",
   "metadata": {},
   "outputs": [
    {
     "name": "stdout",
     "output_type": "stream",
     "text": [
      "0                              Data Analyst\n",
      "1                              Data Analyst\n",
      "2        Remote Python Data Science Analyst\n",
      "3                  Analyst - Data Scientist\n",
      "4                              Data Analyst\n",
      "                       ...                 \n",
      "545             Remote Data Science Analyst\n",
      "546             Remote Data Science Analyst\n",
      "547    Remote Data Science Analyst (Python)\n",
      "548             Remote Data Science Analyst\n",
      "549      Remote Python Data Science Analyst\n",
      "Name: job_title, Length: 550, dtype: object\n"
     ]
    }
   ],
   "source": [
    "print(df.job_title)"
   ]
  },
  {
   "cell_type": "code",
   "execution_count": 150,
   "id": "4ce101bf-0d21-4f25-bc38-062b48837cbc",
   "metadata": {},
   "outputs": [
    {
     "name": "stdout",
     "output_type": "stream",
     "text": [
      "Column_type: <class 'pandas.core.series.Series'>\n",
      "Column_type: <class 'pandas.core.series.Series'>\n",
      "Column_type: <class 'pandas.core.series.Series'>\n"
     ]
    }
   ],
   "source": [
    "job_type = type(df['job_title'])\n",
    "print(\"Column_type:\",job_type)\n",
    "company_type = type(df['company_title'])\n",
    "print(\"Column_type:\",company_type)\n",
    "description_type = type(df['job_description'])\n",
    "print(\"Column_type:\",description_type)"
   ]
  },
  {
   "cell_type": "code",
   "execution_count": 151,
   "id": "df69c43a-2580-4a3f-b373-52797676cca5",
   "metadata": {},
   "outputs": [],
   "source": [
    "#company_title = df.company_title"
   ]
  },
  {
   "cell_type": "code",
   "execution_count": 152,
   "id": "0919adbd-2c1c-4b52-bda0-1abb6de288f9",
   "metadata": {},
   "outputs": [
    {
     "data": {
      "text/plain": [
       "Index(['job_title', 'company_title', 'job_description'], dtype='object')"
      ]
     },
     "execution_count": 152,
     "metadata": {},
     "output_type": "execute_result"
    }
   ],
   "source": [
    "df.columns"
   ]
  },
  {
   "cell_type": "code",
   "execution_count": 153,
   "id": "ae5c00c8-5be3-4fd7-b7c6-2af6c39f8ab8",
   "metadata": {},
   "outputs": [
    {
     "data": {
      "text/html": [
       "<div>\n",
       "<style scoped>\n",
       "    .dataframe tbody tr th:only-of-type {\n",
       "        vertical-align: middle;\n",
       "    }\n",
       "\n",
       "    .dataframe tbody tr th {\n",
       "        vertical-align: top;\n",
       "    }\n",
       "\n",
       "    .dataframe thead th {\n",
       "        text-align: right;\n",
       "    }\n",
       "</style>\n",
       "<table border=\"1\" class=\"dataframe\">\n",
       "  <thead>\n",
       "    <tr style=\"text-align: right;\">\n",
       "      <th></th>\n",
       "      <th>job_title</th>\n",
       "      <th>company_title</th>\n",
       "      <th>job_description</th>\n",
       "    </tr>\n",
       "  </thead>\n",
       "  <tbody>\n",
       "    <tr>\n",
       "      <th>0</th>\n",
       "      <td>Data Analyst</td>\n",
       "      <td>Mr. Cooper</td>\n",
       "      <td>At Mr. Cooper Group, You Make the Dream Possib...</td>\n",
       "    </tr>\n",
       "    <tr>\n",
       "      <th>1</th>\n",
       "      <td>Data Analyst</td>\n",
       "      <td>Myntra</td>\n",
       "      <td>Responsibilities\\n\\nData Analyst : \\n\\nBuildin...</td>\n",
       "    </tr>\n",
       "    <tr>\n",
       "      <th>2</th>\n",
       "      <td>Remote Python Data Science Analyst</td>\n",
       "      <td>Turing</td>\n",
       "      <td>A prominent US client is seeking a Data Scient...</td>\n",
       "    </tr>\n",
       "    <tr>\n",
       "      <th>3</th>\n",
       "      <td>Analyst - Data Scientist</td>\n",
       "      <td>AstraZeneca</td>\n",
       "      <td>Job Title - Analyst - Data Scientist\\n\\nCareer...</td>\n",
       "    </tr>\n",
       "    <tr>\n",
       "      <th>4</th>\n",
       "      <td>Data Analyst</td>\n",
       "      <td>Tech Mahindra</td>\n",
       "      <td>Job Summary\\n\\nTO contribute TO a project ON a...</td>\n",
       "    </tr>\n",
       "    <tr>\n",
       "      <th>...</th>\n",
       "      <td>...</td>\n",
       "      <td>...</td>\n",
       "      <td>...</td>\n",
       "    </tr>\n",
       "    <tr>\n",
       "      <th>545</th>\n",
       "      <td>Remote Data Science Analyst</td>\n",
       "      <td>Turing</td>\n",
       "      <td>A top US client is looking to hire Data Scient...</td>\n",
       "    </tr>\n",
       "    <tr>\n",
       "      <th>546</th>\n",
       "      <td>Remote Data Science Analyst</td>\n",
       "      <td>Turing</td>\n",
       "      <td>A prominent US client is seeking Data Scientis...</td>\n",
       "    </tr>\n",
       "    <tr>\n",
       "      <th>547</th>\n",
       "      <td>Remote Data Science Analyst (Python)</td>\n",
       "      <td>Turing</td>\n",
       "      <td>A renowned US-based client is seeking a commit...</td>\n",
       "    </tr>\n",
       "    <tr>\n",
       "      <th>548</th>\n",
       "      <td>Remote Data Science Analyst</td>\n",
       "      <td>Turing</td>\n",
       "      <td>A leading client in the United States is in se...</td>\n",
       "    </tr>\n",
       "    <tr>\n",
       "      <th>549</th>\n",
       "      <td>Remote Python Data Science Analyst</td>\n",
       "      <td>Turing</td>\n",
       "      <td>Our esteemed US-based client is on the lookout...</td>\n",
       "    </tr>\n",
       "  </tbody>\n",
       "</table>\n",
       "<p>550 rows × 3 columns</p>\n",
       "</div>"
      ],
      "text/plain": [
       "                                job_title  company_title  \\\n",
       "0                            Data Analyst     Mr. Cooper   \n",
       "1                            Data Analyst         Myntra   \n",
       "2      Remote Python Data Science Analyst         Turing   \n",
       "3                Analyst - Data Scientist    AstraZeneca   \n",
       "4                            Data Analyst  Tech Mahindra   \n",
       "..                                    ...            ...   \n",
       "545           Remote Data Science Analyst         Turing   \n",
       "546           Remote Data Science Analyst         Turing   \n",
       "547  Remote Data Science Analyst (Python)         Turing   \n",
       "548           Remote Data Science Analyst         Turing   \n",
       "549    Remote Python Data Science Analyst         Turing   \n",
       "\n",
       "                                       job_description  \n",
       "0    At Mr. Cooper Group, You Make the Dream Possib...  \n",
       "1    Responsibilities\\n\\nData Analyst : \\n\\nBuildin...  \n",
       "2    A prominent US client is seeking a Data Scient...  \n",
       "3    Job Title - Analyst - Data Scientist\\n\\nCareer...  \n",
       "4    Job Summary\\n\\nTO contribute TO a project ON a...  \n",
       "..                                                 ...  \n",
       "545  A top US client is looking to hire Data Scient...  \n",
       "546  A prominent US client is seeking Data Scientis...  \n",
       "547  A renowned US-based client is seeking a commit...  \n",
       "548  A leading client in the United States is in se...  \n",
       "549  Our esteemed US-based client is on the lookout...  \n",
       "\n",
       "[550 rows x 3 columns]"
      ]
     },
     "execution_count": 153,
     "metadata": {},
     "output_type": "execute_result"
    }
   ],
   "source": [
    "df"
   ]
  },
  {
   "cell_type": "code",
   "execution_count": 154,
   "id": "bd5f9589-e061-4bb4-ab8c-077a1a96e384",
   "metadata": {},
   "outputs": [],
   "source": [
    "#Eliminating duplicate values\n",
    "# Get the index of rows to drop\n",
    "index_to_drop = df[df['company_title'] == 'Turing'].index\n",
    "\n",
    "# Drop the rows\n",
    "df.drop(index_to_drop, inplace=True)"
   ]
  },
  {
   "cell_type": "code",
   "execution_count": 155,
   "id": "4790a81c",
   "metadata": {},
   "outputs": [
    {
     "data": {
      "text/html": [
       "<div>\n",
       "<style scoped>\n",
       "    .dataframe tbody tr th:only-of-type {\n",
       "        vertical-align: middle;\n",
       "    }\n",
       "\n",
       "    .dataframe tbody tr th {\n",
       "        vertical-align: top;\n",
       "    }\n",
       "\n",
       "    .dataframe thead th {\n",
       "        text-align: right;\n",
       "    }\n",
       "</style>\n",
       "<table border=\"1\" class=\"dataframe\">\n",
       "  <thead>\n",
       "    <tr style=\"text-align: right;\">\n",
       "      <th></th>\n",
       "      <th>job_title</th>\n",
       "      <th>company_title</th>\n",
       "      <th>job_description</th>\n",
       "    </tr>\n",
       "  </thead>\n",
       "  <tbody>\n",
       "    <tr>\n",
       "      <th>0</th>\n",
       "      <td>Data Analyst</td>\n",
       "      <td>Mr. Cooper</td>\n",
       "      <td>At Mr. Cooper Group, You Make the Dream Possib...</td>\n",
       "    </tr>\n",
       "    <tr>\n",
       "      <th>1</th>\n",
       "      <td>Data Analyst</td>\n",
       "      <td>Myntra</td>\n",
       "      <td>Responsibilities\\n\\nData Analyst : \\n\\nBuildin...</td>\n",
       "    </tr>\n",
       "    <tr>\n",
       "      <th>3</th>\n",
       "      <td>Analyst - Data Scientist</td>\n",
       "      <td>AstraZeneca</td>\n",
       "      <td>Job Title - Analyst - Data Scientist\\n\\nCareer...</td>\n",
       "    </tr>\n",
       "    <tr>\n",
       "      <th>4</th>\n",
       "      <td>Data Analyst</td>\n",
       "      <td>Tech Mahindra</td>\n",
       "      <td>Job Summary\\n\\nTO contribute TO a project ON a...</td>\n",
       "    </tr>\n",
       "    <tr>\n",
       "      <th>5</th>\n",
       "      <td>Data Analyst</td>\n",
       "      <td>Organic Mandya</td>\n",
       "      <td>Company Description\\nOrganic Mandya, founded b...</td>\n",
       "    </tr>\n",
       "    <tr>\n",
       "      <th>...</th>\n",
       "      <td>...</td>\n",
       "      <td>...</td>\n",
       "      <td>...</td>\n",
       "    </tr>\n",
       "    <tr>\n",
       "      <th>520</th>\n",
       "      <td>Lead Data Analyst - Associate Tech Specialist</td>\n",
       "      <td>ESSENWARE PRIVATE LIMITED</td>\n",
       "      <td>This position is for the team working on moder...</td>\n",
       "    </tr>\n",
       "    <tr>\n",
       "      <th>521</th>\n",
       "      <td>Business Intelligence Consultant</td>\n",
       "      <td>Depth Consulting Services</td>\n",
       "      <td>###\\n\\nProject Location:** Anywhere in India o...</td>\n",
       "    </tr>\n",
       "    <tr>\n",
       "      <th>522</th>\n",
       "      <td>466611466612466616 _ Data &amp; Integration engine...</td>\n",
       "      <td>Alp Consulting Ltd.</td>\n",
       "      <td>Skill Set:\\n\\nPython, PySpark, Grafana, EDA, d...</td>\n",
       "    </tr>\n",
       "    <tr>\n",
       "      <th>523</th>\n",
       "      <td>Biostatistician II</td>\n",
       "      <td>Parexel</td>\n",
       "      <td>Job Purpose\\n\\nThe Biostatistician II works in...</td>\n",
       "    </tr>\n",
       "    <tr>\n",
       "      <th>524</th>\n",
       "      <td>Biostatistician</td>\n",
       "      <td>Lifelancer</td>\n",
       "      <td>About The Job\\n\\nJob Overview\\n\\nPrepare analy...</td>\n",
       "    </tr>\n",
       "  </tbody>\n",
       "</table>\n",
       "<p>333 rows × 3 columns</p>\n",
       "</div>"
      ],
      "text/plain": [
       "                                             job_title  \\\n",
       "0                                         Data Analyst   \n",
       "1                                         Data Analyst   \n",
       "3                             Analyst - Data Scientist   \n",
       "4                                         Data Analyst   \n",
       "5                                         Data Analyst   \n",
       "..                                                 ...   \n",
       "520      Lead Data Analyst - Associate Tech Specialist   \n",
       "521                   Business Intelligence Consultant   \n",
       "522  466611466612466616 _ Data & Integration engine...   \n",
       "523                                 Biostatistician II   \n",
       "524                                    Biostatistician   \n",
       "\n",
       "                  company_title  \\\n",
       "0                    Mr. Cooper   \n",
       "1                        Myntra   \n",
       "3                   AstraZeneca   \n",
       "4                 Tech Mahindra   \n",
       "5                Organic Mandya   \n",
       "..                          ...   \n",
       "520  ESSENWARE PRIVATE LIMITED    \n",
       "521   Depth Consulting Services   \n",
       "522         Alp Consulting Ltd.   \n",
       "523                     Parexel   \n",
       "524                  Lifelancer   \n",
       "\n",
       "                                       job_description  \n",
       "0    At Mr. Cooper Group, You Make the Dream Possib...  \n",
       "1    Responsibilities\\n\\nData Analyst : \\n\\nBuildin...  \n",
       "3    Job Title - Analyst - Data Scientist\\n\\nCareer...  \n",
       "4    Job Summary\\n\\nTO contribute TO a project ON a...  \n",
       "5    Company Description\\nOrganic Mandya, founded b...  \n",
       "..                                                 ...  \n",
       "520  This position is for the team working on moder...  \n",
       "521  ###\\n\\nProject Location:** Anywhere in India o...  \n",
       "522  Skill Set:\\n\\nPython, PySpark, Grafana, EDA, d...  \n",
       "523  Job Purpose\\n\\nThe Biostatistician II works in...  \n",
       "524  About The Job\\n\\nJob Overview\\n\\nPrepare analy...  \n",
       "\n",
       "[333 rows x 3 columns]"
      ]
     },
     "execution_count": 155,
     "metadata": {},
     "output_type": "execute_result"
    }
   ],
   "source": [
    "df"
   ]
  },
  {
   "cell_type": "code",
   "execution_count": 156,
   "id": "d5753a00",
   "metadata": {},
   "outputs": [],
   "source": [
    "df.to_csv(\"duplicates_extracted.csv\",index=False)"
   ]
  },
  {
   "cell_type": "code",
   "execution_count": 157,
   "id": "58170d98",
   "metadata": {},
   "outputs": [
    {
     "data": {
      "text/plain": [
       "job_title          333\n",
       "company_title      333\n",
       "job_description    333\n",
       "dtype: int64"
      ]
     },
     "execution_count": 157,
     "metadata": {},
     "output_type": "execute_result"
    }
   ],
   "source": [
    "df.count()\n"
   ]
  },
  {
   "cell_type": "code",
   "execution_count": 158,
   "id": "3f57ad81",
   "metadata": {},
   "outputs": [],
   "source": [
    "job_descriptions = df['job_description']\n",
    "programming_languages = ['Python','BigQuery','Excel','Tableau','Pandas','Numpy','PowerBi', 'R', 'SQL', 'Java', 'JavaScript', 'C#', 'C++', 'PHP', 'Ruby', 'Go', 'Swift', 'Kotlin', 'Scala', 'Perl', 'MATLAB']\n"
   ]
  },
  {
   "cell_type": "code",
   "execution_count": 159,
   "id": "04db8231",
   "metadata": {},
   "outputs": [],
   "source": [
    "def extract_languages(description):\n",
    "    mentioned_languages = []\n",
    "    for language in programming_languages:\n",
    "        if language in description:\n",
    "            mentioned_languages.append(language)\n",
    "    return mentioned_languages\n",
    "\n",
    "# Apply the function to each job description\n",
    "df[\"extracted_languages\"] = job_descriptions.apply(extract_languages)"
   ]
  },
  {
   "cell_type": "code",
   "execution_count": 160,
   "id": "2b386b97",
   "metadata": {},
   "outputs": [
    {
     "name": "stdout",
     "output_type": "stream",
     "text": [
      "                                       job_description  \\\n",
      "0    At Mr. Cooper Group, You Make the Dream Possib...   \n",
      "1    Responsibilities\\n\\nData Analyst : \\n\\nBuildin...   \n",
      "3    Job Title - Analyst - Data Scientist\\n\\nCareer...   \n",
      "4    Job Summary\\n\\nTO contribute TO a project ON a...   \n",
      "5    Company Description\\nOrganic Mandya, founded b...   \n",
      "..                                                 ...   \n",
      "520  This position is for the team working on moder...   \n",
      "521  ###\\n\\nProject Location:** Anywhere in India o...   \n",
      "522  Skill Set:\\n\\nPython, PySpark, Grafana, EDA, d...   \n",
      "523  Job Purpose\\n\\nThe Biostatistician II works in...   \n",
      "524  About The Job\\n\\nJob Overview\\n\\nPrepare analy...   \n",
      "\n",
      "                             extracted_languages  \n",
      "0                                            [R]  \n",
      "1           [Python, Excel, Tableau, R, SQL, Go]  \n",
      "3    [Python, Excel, Tableau, R, SQL, Go, Scala]  \n",
      "4                                            [R]  \n",
      "5                                            [R]  \n",
      "..                                           ...  \n",
      "520                                        [SQL]  \n",
      "521                     [Excel, Tableau, R, SQL]  \n",
      "522                        [Python, BigQuery, R]  \n",
      "523                                         [Go]  \n",
      "524                               [Excel, R, Go]  \n",
      "\n",
      "[333 rows x 2 columns]\n"
     ]
    }
   ],
   "source": [
    "# Create a summary DataFrame\n",
    "summary_df = pd.DataFrame({'job_description': job_descriptions, 'extracted_languages': extracted_languages})\n",
    "\n",
    "# Display the DataFrame with extracted languages\n",
    "print(summary_df)"
   ]
  },
  {
   "cell_type": "code",
   "execution_count": 161,
   "id": "30fa2dfc",
   "metadata": {},
   "outputs": [],
   "source": [
    "from collections import Counter\n",
    "\n",
    "# Flatten the list of lists and count occurrences\n",
    "language_counts = Counter([language for sublist in df['extracted_languages'] for language in sublist])\n",
    "\n",
    "# Convert to DataFrame for easy plotting\n",
    "language_df = pd.DataFrame(language_counts.items(), columns=['Language', 'Count'])\n"
   ]
  },
  {
   "cell_type": "code",
   "execution_count": 162,
   "id": "8ed26143",
   "metadata": {},
   "outputs": [
    {
     "data": {
      "image/png": "[encoded data removed]",
      "text/plain": [
       "<Figure size 1200x600 with 1 Axes>"
      ]
     },
     "metadata": {},
     "output_type": "display_data"
    }
   ],
   "source": [
    "import matplotlib.pyplot as plt\n",
    "\n",
    "# Sort the DataFrame by count\n",
    "language_df = language_df.sort_values(by='Count', ascending=False)\n",
    "\n",
    "# Plot the bar chart\n",
    "plt.figure(figsize=(12, 6))\n",
    "plt.bar(language_df['Language'], language_df['Count'], color='royalblue')\n",
    "plt.title('Programming Languages Mentioned in Job Descriptions')\n",
    "plt.xlabel('Programming Language')\n",
    "plt.ylabel('Count')\n",
    "plt.xticks(rotation=45)\n",
    "plt.show()\n"
   ]
  },
  {
   "cell_type": "code",
   "execution_count": 163,
   "id": "84109657",
   "metadata": {},
   "outputs": [
    {
     "name": "stdout",
     "output_type": "stream",
     "text": [
      "R: 299\n",
      "Python: 116\n",
      "Excel: 162\n",
      "Tableau: 76\n",
      "SQL: 159\n",
      "Go: 123\n",
      "Scala: 9\n",
      "BigQuery: 3\n",
      "Java: 26\n",
      "JavaScript: 14\n",
      "C++: 10\n",
      "PowerBi: 10\n",
      "Numpy: 1\n",
      "PHP: 1\n",
      "MATLAB: 1\n",
      "Pandas: 3\n",
      "Perl: 2\n",
      "C#: 1\n"
     ]
    }
   ],
   "source": [
    "for language, count in language_counts.items():\n",
    "    print(f\"{language}: {count}\")"
   ]
  },
  {
   "cell_type": "code",
   "execution_count": 164,
   "id": "ce916601",
   "metadata": {},
   "outputs": [
    {
     "name": "stdout",
     "output_type": "stream",
     "text": [
      "Jobs requiring Bachelor's degree: 43\n",
      "Jobs requiring Master's degree: 13\n",
      "Jobs requiring both Bachelor's and Master's degrees: 22\n"
     ]
    }
   ],
   "source": [
    "import pandas as pd\n",
    "import re\n",
    "from collections import Counter\n",
    "\n",
    "# Extract the job descriptions column\n",
    "job_descriptions = df['job_description']\n",
    "\n",
    "# Define search patterns for degrees\n",
    "bachelor_pattern = re.compile(r'\\bBachelor\\'?s\\b', re.IGNORECASE)\n",
    "master_pattern = re.compile(r'\\bMaster\\'?s\\b', re.IGNORECASE)\n",
    "\n",
    "# Initialize counters\n",
    "degree_counts = Counter()\n",
    "\n",
    "# Iterate over job descriptions\n",
    "for description in job_descriptions:\n",
    "    has_bachelor = bool(bachelor_pattern.search(description))\n",
    "    has_master = bool(master_pattern.search(description))\n",
    "    \n",
    "    if has_bachelor and has_master:\n",
    "        degree_counts['Both'] += 1\n",
    "    elif has_bachelor:\n",
    "        degree_counts['Bachelor'] += 1\n",
    "    elif has_master:\n",
    "        degree_counts['Master'] += 1\n",
    "\n",
    "# Print the results\n",
    "print(f\"Jobs requiring Bachelor's degree: {degree_counts['Bachelor']}\")\n",
    "print(f\"Jobs requiring Master's degree: {degree_counts['Master']}\")\n",
    "print(f\"Jobs requiring both Bachelor's and Master's degrees: {degree_counts['Both']}\")"
   ]
  },
  {
   "cell_type": "code",
   "execution_count": 165,
   "id": "ceab6088",
   "metadata": {},
   "outputs": [
    {
     "data": {
      "image/png": "[encoded data removed]",
      "text/plain": [
       "<Figure size 800x800 with 1 Axes>"
      ]
     },
     "metadata": {},
     "output_type": "display_data"
    }
   ],
   "source": [
    "# Plot the pie chart\n",
    "labels = degree_counts.keys()\n",
    "sizes = degree_counts.values()\n",
    "colors = ['#ff9999','#66b3ff','#99ff99']\n",
    "explode = (0.1, 0, 0)  # explode the first slice\n",
    "\n",
    "plt.figure(figsize=(8, 8))\n",
    "plt.pie(sizes, explode=explode, labels=labels, colors=colors, autopct='%1.1f%%', startangle=140)\n",
    "plt.title('Degree Requirements')\n",
    "plt.axis('equal')  # Equal aspect ratio ensures that pie is drawn as a circle.\n",
    "plt.show()"
   ]
  },
  {
   "cell_type": "code",
   "execution_count": 166,
   "id": "aecd9be4",
   "metadata": {},
   "outputs": [],
   "source": [
    "\n",
    "import re\n",
    "from collections import Counter\n",
    "\n",
    "\n",
    "\n",
    "\n",
    "# Extract the job descriptions column\n",
    "job_descriptions = df['job_description']\n",
    "\n",
    "# Define keywords to search for\n",
    "keywords = ['data analysis', 'design', 'SQL', 'analytical', 'data modelling', 'data analysis', \n",
    "            ' machine learning','Written', 'Insights', 'data processing', 'data manipulation', ' data visualization', \n",
    "            'statistical analysis','Verbal','Communication','Presentation','critical thinking']\n"
   ]
  },
  {
   "cell_type": "code",
   "execution_count": 167,
   "id": "f392b42c",
   "metadata": {},
   "outputs": [],
   "source": [
    "# Initialize a counter\n",
    "skill_counts = Counter()\n",
    "\n",
    "# Iterate over job descriptions\n",
    "for description in job_descriptions:\n",
    "    for keyword in keywords:\n",
    "        if re.search(r'\\b' + re.escape(keyword) + r'\\b', description, re.IGNORECASE):\n",
    "            skill_counts[keyword] += 1\n"
   ]
  },
  {
   "cell_type": "code",
   "execution_count": 168,
   "id": "77fb6223",
   "metadata": {},
   "outputs": [
    {
     "data": {
      "image/png": "[encoded data removed]",
      "text/plain": [
       "<Figure size 1200x600 with 1 Axes>"
      ]
     },
     "metadata": {},
     "output_type": "display_data"
    }
   ],
   "source": [
    "# Extract data for plotting\n",
    "labels = skill_counts.keys()\n",
    "sizes = skill_counts.values()\n",
    "\n",
    "# Plot the bar chart\n",
    "plt.figure(figsize=(12,6))\n",
    "plt.bar(labels, sizes, color='skyblue')\n",
    "plt.title('Skills Mentioned in Job Descriptions')\n",
    "plt.xlabel('Skills')\n",
    "plt.ylabel('Count')\n",
    "plt.xticks(rotation=90)\n",
    "plt.tight_layout()\n",
    "plt.show()"
   ]
  },
  {
   "cell_type": "code",
   "execution_count": null,
   "id": "1259b099",
   "metadata": {},
   "outputs": [],
   "source": []
  }
 ],
 "metadata": {
  "kernelspec": {
   "display_name": "Python 3 (ipykernel)",
   "language": "python",
   "name": "python3"
  },
  "language_info": {
   "codemirror_mode": {
    "name": "ipython",
    "version": 3
   },
   "file_extension": ".py",
   "mimetype": "text/x-python",
   "name": "python",
   "nbconvert_exporter": "python",
   "pygments_lexer": "ipython3",
   "version": "3.12.3"
  }
 },
 "nbformat": 4,
 "nbformat_minor": 5
}
